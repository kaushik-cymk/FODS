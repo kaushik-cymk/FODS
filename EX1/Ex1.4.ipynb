{
 "cells": [
  {
   "cell_type": "code",
   "execution_count": 2,
   "id": "2b34b8a8",
   "metadata": {},
   "outputs": [
    {
     "data": {
      "text/plain": [
       "0    23\n",
       "1    21\n",
       "2    20\n",
       "3    25\n",
       "4    27\n",
       "5    30\n",
       "6    28\n",
       "7    22\n",
       "8    24\n",
       "9    26\n",
       "dtype: int64"
      ]
     },
     "execution_count": 2,
     "metadata": {},
     "output_type": "execute_result"
    }
   ],
   "source": [
    "import pandas as pd\n",
    "# Create the Series\n",
    "temperature = pd.Series([23, 21, 20, 25, 27, 30, 28, 22, 24, 26])\n",
    "temperature"
   ]
  },
  {
   "cell_type": "code",
   "execution_count": 4,
   "id": "6f7b1f16",
   "metadata": {},
   "outputs": [
    {
     "data": {
      "text/plain": [
       "(24.6, 24.5, 10.266666666666666)"
      ]
     },
     "execution_count": 4,
     "metadata": {},
     "output_type": "execute_result"
    }
   ],
   "source": [
    "#Find the mean, median, and variance of the temperature series\n",
    "mean_temp = temperature.mean()\n",
    "median_temp = temperature.median()\n",
    "variance_temp = temperature.var()\n",
    "\n",
    "mean_temp, median_temp, variance_temp"
   ]
  },
  {
   "cell_type": "code",
   "execution_count": 5,
   "id": "9aa3580d",
   "metadata": {},
   "outputs": [
    {
     "data": {
      "text/plain": [
       "0    Below Mean\n",
       "1    Below Mean\n",
       "2    Below Mean\n",
       "3    Above Mean\n",
       "4    Above Mean\n",
       "5    Above Mean\n",
       "6    Above Mean\n",
       "7    Below Mean\n",
       "8    Below Mean\n",
       "9    Above Mean\n",
       "dtype: object"
      ]
     },
     "execution_count": 5,
     "metadata": {},
     "output_type": "execute_result"
    }
   ],
   "source": [
    "#Create a new Series indicating whether each temperature is above or below the mean\n",
    "temperature_comparison = temperature.apply(lambda x: 'Above Mean' if x > mean_temp else 'Below Mean')\n",
    "temperature_comparison"
   ]
  },
  {
   "cell_type": "code",
   "execution_count": 6,
   "id": "04829e95",
   "metadata": {},
   "outputs": [
    {
     "data": {
      "text/plain": [
       "0    296.15\n",
       "1    294.15\n",
       "2    293.15\n",
       "3    298.15\n",
       "4    300.15\n",
       "5    303.15\n",
       "6    301.15\n",
       "7    295.15\n",
       "8    297.15\n",
       "9    299.15\n",
       "dtype: float64"
      ]
     },
     "execution_count": 6,
     "metadata": {},
     "output_type": "execute_result"
    }
   ],
   "source": [
    "#Convert the temperatures to a different scale (e.g., Kelvin, K = C + 273.15)\n",
    "temperature_kelvin = temperature + 273.15\n",
    "temperature_kelvin"
   ]
  },
  {
   "cell_type": "code",
   "execution_count": 7,
   "id": "2c3f85b8",
   "metadata": {},
   "outputs": [
    {
     "data": {
      "text/plain": [
       "0          NaN\n",
       "1          NaN\n",
       "2    21.333333\n",
       "3    22.000000\n",
       "4    24.000000\n",
       "5    27.333333\n",
       "6    28.333333\n",
       "7    26.666667\n",
       "8    24.666667\n",
       "9    24.000000\n",
       "dtype: float64"
      ]
     },
     "execution_count": 7,
     "metadata": {},
     "output_type": "execute_result"
    }
   ],
   "source": [
    "#Calculate the rolling mean with a window size of 3\n",
    "rolling_mean = temperature.rolling(window=3).mean()\n",
    "rolling_mean"
   ]
  },
  {
   "cell_type": "code",
   "execution_count": 8,
   "id": "a7448597",
   "metadata": {},
   "outputs": [
    {
     "data": {
      "text/plain": [
       "0    23\n",
       "3    25\n",
       "4    27\n",
       "7    22\n",
       "8    24\n",
       "9    26\n",
       "dtype: int64"
      ]
     },
     "execution_count": 8,
     "metadata": {},
     "output_type": "execute_result"
    }
   ],
   "source": [
    "# Calculate standard deviation\n",
    "std_dev = temperature.std()\n",
    "\n",
    "# Filter temperatures within one standard deviation of the mean\n",
    "filtered_temps = temperature[(temperature >= (mean_temp - std_dev)) & (temperature <= (mean_temp + std_dev))]\n",
    "filtered_temps\n"
   ]
  },
  {
   "cell_type": "code",
   "execution_count": null,
   "id": "6ea3b33b",
   "metadata": {},
   "outputs": [],
   "source": []
  }
 ],
 "metadata": {
  "kernelspec": {
   "display_name": "Python 3 (ipykernel)",
   "language": "python",
   "name": "python3"
  },
  "language_info": {
   "codemirror_mode": {
    "name": "ipython",
    "version": 3
   },
   "file_extension": ".py",
   "mimetype": "text/x-python",
   "name": "python",
   "nbconvert_exporter": "python",
   "pygments_lexer": "ipython3",
   "version": "3.9.7"
  }
 },
 "nbformat": 4,
 "nbformat_minor": 5
}
